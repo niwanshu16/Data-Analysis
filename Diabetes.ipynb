{
 "cells": [
  {
   "cell_type": "code",
   "execution_count": 1,
   "metadata": {},
   "outputs": [],
   "source": [
    "import pandas as pd\n",
    "import numpy as np\n",
    "import statsmodels.api as sm\n",
    "import seaborn as sns\n",
    "import matplotlib.pyplot as plt\n",
    "import scipy.stats.distributions as dist"
   ]
  },
  {
   "cell_type": "code",
   "execution_count": 2,
   "metadata": {},
   "outputs": [
    {
     "data": {
      "text/html": [
       "<div>\n",
       "<style scoped>\n",
       "    .dataframe tbody tr th:only-of-type {\n",
       "        vertical-align: middle;\n",
       "    }\n",
       "\n",
       "    .dataframe tbody tr th {\n",
       "        vertical-align: top;\n",
       "    }\n",
       "\n",
       "    .dataframe thead th {\n",
       "        text-align: right;\n",
       "    }\n",
       "</style>\n",
       "<table border=\"1\" class=\"dataframe\">\n",
       "  <thead>\n",
       "    <tr style=\"text-align: right;\">\n",
       "      <th></th>\n",
       "      <th>Pregnancies</th>\n",
       "      <th>Glucose</th>\n",
       "      <th>BloodPressure</th>\n",
       "      <th>SkinThickness</th>\n",
       "      <th>Insulin</th>\n",
       "      <th>BMI</th>\n",
       "      <th>DiabetesPedigreeFunction</th>\n",
       "      <th>Age</th>\n",
       "      <th>Outcome</th>\n",
       "    </tr>\n",
       "  </thead>\n",
       "  <tbody>\n",
       "    <tr>\n",
       "      <th>0</th>\n",
       "      <td>6</td>\n",
       "      <td>148</td>\n",
       "      <td>72</td>\n",
       "      <td>35</td>\n",
       "      <td>0</td>\n",
       "      <td>33.6</td>\n",
       "      <td>0.627</td>\n",
       "      <td>50</td>\n",
       "      <td>1</td>\n",
       "    </tr>\n",
       "    <tr>\n",
       "      <th>1</th>\n",
       "      <td>1</td>\n",
       "      <td>85</td>\n",
       "      <td>66</td>\n",
       "      <td>29</td>\n",
       "      <td>0</td>\n",
       "      <td>26.6</td>\n",
       "      <td>0.351</td>\n",
       "      <td>31</td>\n",
       "      <td>0</td>\n",
       "    </tr>\n",
       "    <tr>\n",
       "      <th>2</th>\n",
       "      <td>8</td>\n",
       "      <td>183</td>\n",
       "      <td>64</td>\n",
       "      <td>0</td>\n",
       "      <td>0</td>\n",
       "      <td>23.3</td>\n",
       "      <td>0.672</td>\n",
       "      <td>32</td>\n",
       "      <td>1</td>\n",
       "    </tr>\n",
       "    <tr>\n",
       "      <th>3</th>\n",
       "      <td>1</td>\n",
       "      <td>89</td>\n",
       "      <td>66</td>\n",
       "      <td>23</td>\n",
       "      <td>94</td>\n",
       "      <td>28.1</td>\n",
       "      <td>0.167</td>\n",
       "      <td>21</td>\n",
       "      <td>0</td>\n",
       "    </tr>\n",
       "    <tr>\n",
       "      <th>4</th>\n",
       "      <td>0</td>\n",
       "      <td>137</td>\n",
       "      <td>40</td>\n",
       "      <td>35</td>\n",
       "      <td>168</td>\n",
       "      <td>43.1</td>\n",
       "      <td>2.288</td>\n",
       "      <td>33</td>\n",
       "      <td>1</td>\n",
       "    </tr>\n",
       "  </tbody>\n",
       "</table>\n",
       "</div>"
      ],
      "text/plain": [
       "   Pregnancies  Glucose  BloodPressure  SkinThickness  Insulin   BMI  \\\n",
       "0            6      148             72             35        0  33.6   \n",
       "1            1       85             66             29        0  26.6   \n",
       "2            8      183             64              0        0  23.3   \n",
       "3            1       89             66             23       94  28.1   \n",
       "4            0      137             40             35      168  43.1   \n",
       "\n",
       "   DiabetesPedigreeFunction  Age  Outcome  \n",
       "0                     0.627   50        1  \n",
       "1                     0.351   31        0  \n",
       "2                     0.672   32        1  \n",
       "3                     0.167   21        0  \n",
       "4                     2.288   33        1  "
      ]
     },
     "execution_count": 2,
     "metadata": {},
     "output_type": "execute_result"
    }
   ],
   "source": [
    "dataset = pd.read_csv('diabetes.csv')\n",
    "dataset.head()"
   ]
  },
  {
   "cell_type": "code",
   "execution_count": 3,
   "metadata": {},
   "outputs": [
    {
     "data": {
      "text/plain": [
       "Pregnancies                 0\n",
       "Glucose                     0\n",
       "BloodPressure               0\n",
       "SkinThickness               0\n",
       "Insulin                     0\n",
       "BMI                         0\n",
       "DiabetesPedigreeFunction    0\n",
       "Age                         0\n",
       "Outcome                     0\n",
       "dtype: int64"
      ]
     },
     "execution_count": 3,
     "metadata": {},
     "output_type": "execute_result"
    }
   ],
   "source": [
    "dataset.isnull().sum()\n",
    "\n",
    "# NO null values are there"
   ]
  },
  {
   "cell_type": "markdown",
   "metadata": {},
   "source": [
    "Looking at heatmap we say that glucose is having the highest correlation with out variable of interest"
   ]
  },
  {
   "cell_type": "code",
   "execution_count": 4,
   "metadata": {},
   "outputs": [
    {
     "data": {
      "text/html": [
       "<div>\n",
       "<style scoped>\n",
       "    .dataframe tbody tr th:only-of-type {\n",
       "        vertical-align: middle;\n",
       "    }\n",
       "\n",
       "    .dataframe tbody tr th {\n",
       "        vertical-align: top;\n",
       "    }\n",
       "\n",
       "    .dataframe thead th {\n",
       "        text-align: right;\n",
       "    }\n",
       "</style>\n",
       "<table border=\"1\" class=\"dataframe\">\n",
       "  <thead>\n",
       "    <tr style=\"text-align: right;\">\n",
       "      <th></th>\n",
       "      <th>Pregnancies</th>\n",
       "      <th>Glucose</th>\n",
       "      <th>BloodPressure</th>\n",
       "      <th>SkinThickness</th>\n",
       "      <th>Insulin</th>\n",
       "      <th>BMI</th>\n",
       "      <th>DiabetesPedigreeFunction</th>\n",
       "      <th>Age</th>\n",
       "      <th>Outcome</th>\n",
       "    </tr>\n",
       "  </thead>\n",
       "  <tbody>\n",
       "    <tr>\n",
       "      <th>count</th>\n",
       "      <td>768.000000</td>\n",
       "      <td>768.000000</td>\n",
       "      <td>768.000000</td>\n",
       "      <td>768.000000</td>\n",
       "      <td>768.000000</td>\n",
       "      <td>768.000000</td>\n",
       "      <td>768.000000</td>\n",
       "      <td>768.000000</td>\n",
       "      <td>768.000000</td>\n",
       "    </tr>\n",
       "    <tr>\n",
       "      <th>mean</th>\n",
       "      <td>3.845052</td>\n",
       "      <td>120.894531</td>\n",
       "      <td>69.105469</td>\n",
       "      <td>20.536458</td>\n",
       "      <td>79.799479</td>\n",
       "      <td>31.992578</td>\n",
       "      <td>0.471876</td>\n",
       "      <td>33.240885</td>\n",
       "      <td>0.348958</td>\n",
       "    </tr>\n",
       "    <tr>\n",
       "      <th>std</th>\n",
       "      <td>3.369578</td>\n",
       "      <td>31.972618</td>\n",
       "      <td>19.355807</td>\n",
       "      <td>15.952218</td>\n",
       "      <td>115.244002</td>\n",
       "      <td>7.884160</td>\n",
       "      <td>0.331329</td>\n",
       "      <td>11.760232</td>\n",
       "      <td>0.476951</td>\n",
       "    </tr>\n",
       "    <tr>\n",
       "      <th>min</th>\n",
       "      <td>0.000000</td>\n",
       "      <td>0.000000</td>\n",
       "      <td>0.000000</td>\n",
       "      <td>0.000000</td>\n",
       "      <td>0.000000</td>\n",
       "      <td>0.000000</td>\n",
       "      <td>0.078000</td>\n",
       "      <td>21.000000</td>\n",
       "      <td>0.000000</td>\n",
       "    </tr>\n",
       "    <tr>\n",
       "      <th>25%</th>\n",
       "      <td>1.000000</td>\n",
       "      <td>99.000000</td>\n",
       "      <td>62.000000</td>\n",
       "      <td>0.000000</td>\n",
       "      <td>0.000000</td>\n",
       "      <td>27.300000</td>\n",
       "      <td>0.243750</td>\n",
       "      <td>24.000000</td>\n",
       "      <td>0.000000</td>\n",
       "    </tr>\n",
       "    <tr>\n",
       "      <th>50%</th>\n",
       "      <td>3.000000</td>\n",
       "      <td>117.000000</td>\n",
       "      <td>72.000000</td>\n",
       "      <td>23.000000</td>\n",
       "      <td>30.500000</td>\n",
       "      <td>32.000000</td>\n",
       "      <td>0.372500</td>\n",
       "      <td>29.000000</td>\n",
       "      <td>0.000000</td>\n",
       "    </tr>\n",
       "    <tr>\n",
       "      <th>75%</th>\n",
       "      <td>6.000000</td>\n",
       "      <td>140.250000</td>\n",
       "      <td>80.000000</td>\n",
       "      <td>32.000000</td>\n",
       "      <td>127.250000</td>\n",
       "      <td>36.600000</td>\n",
       "      <td>0.626250</td>\n",
       "      <td>41.000000</td>\n",
       "      <td>1.000000</td>\n",
       "    </tr>\n",
       "    <tr>\n",
       "      <th>max</th>\n",
       "      <td>17.000000</td>\n",
       "      <td>199.000000</td>\n",
       "      <td>122.000000</td>\n",
       "      <td>99.000000</td>\n",
       "      <td>846.000000</td>\n",
       "      <td>67.100000</td>\n",
       "      <td>2.420000</td>\n",
       "      <td>81.000000</td>\n",
       "      <td>1.000000</td>\n",
       "    </tr>\n",
       "  </tbody>\n",
       "</table>\n",
       "</div>"
      ],
      "text/plain": [
       "       Pregnancies     Glucose  BloodPressure  SkinThickness     Insulin  \\\n",
       "count   768.000000  768.000000     768.000000     768.000000  768.000000   \n",
       "mean      3.845052  120.894531      69.105469      20.536458   79.799479   \n",
       "std       3.369578   31.972618      19.355807      15.952218  115.244002   \n",
       "min       0.000000    0.000000       0.000000       0.000000    0.000000   \n",
       "25%       1.000000   99.000000      62.000000       0.000000    0.000000   \n",
       "50%       3.000000  117.000000      72.000000      23.000000   30.500000   \n",
       "75%       6.000000  140.250000      80.000000      32.000000  127.250000   \n",
       "max      17.000000  199.000000     122.000000      99.000000  846.000000   \n",
       "\n",
       "              BMI  DiabetesPedigreeFunction         Age     Outcome  \n",
       "count  768.000000                768.000000  768.000000  768.000000  \n",
       "mean    31.992578                  0.471876   33.240885    0.348958  \n",
       "std      7.884160                  0.331329   11.760232    0.476951  \n",
       "min      0.000000                  0.078000   21.000000    0.000000  \n",
       "25%     27.300000                  0.243750   24.000000    0.000000  \n",
       "50%     32.000000                  0.372500   29.000000    0.000000  \n",
       "75%     36.600000                  0.626250   41.000000    1.000000  \n",
       "max     67.100000                  2.420000   81.000000    1.000000  "
      ]
     },
     "execution_count": 4,
     "metadata": {},
     "output_type": "execute_result"
    }
   ],
   "source": [
    "dataset.describe()"
   ]
  },
  {
   "cell_type": "code",
   "execution_count": 5,
   "metadata": {},
   "outputs": [
    {
     "data": {
      "image/png": "[encoded data removed]",
      "text/plain": [
       "<Figure size 1080x576 with 2 Axes>"
      ]
     },
     "metadata": {},
     "output_type": "display_data"
    }
   ],
   "source": [
    "plt.figure(figsize = (15,8))\n",
    "correlation_matrix = dataset.corr()\n",
    "\n",
    "sns.heatmap(correlation_matrix , annot = True)\n",
    "plt.show()"
   ]
  },
  {
   "cell_type": "markdown",
   "metadata": {},
   "source": [
    "Looking at histogram we can estimate that the plot is right skewed having mean around 0 and range 15 , having no outliers specifically"
   ]
  },
  {
   "cell_type": "markdown",
   "metadata": {},
   "source": [
    "It's showing a normal distribution with mean around 120, range is 200, having some outliers on the lower side of data"
   ]
  },
  {
   "cell_type": "code",
   "execution_count": 6,
   "metadata": {},
   "outputs": [
    {
     "data": {
      "image/png": "[encoded data removed]",
      "text/plain": [
       "<Figure size 1080x432 with 2 Axes>"
      ]
     },
     "metadata": {},
     "output_type": "display_data"
    }
   ],
   "source": [
    "plt.figure(figsize = (15,6))\n",
    "plt.subplot(1,2,1)\n",
    "_ = sns.distplot(dataset.Pregnancies).set_ylabel(\"Distributions\" , fontsize = 15)\n",
    "plt.subplot(1,2,2)\n",
    "_ = sns.boxplot(dataset.Pregnancies)"
   ]
  },
  {
   "cell_type": "code",
   "execution_count": 7,
   "metadata": {},
   "outputs": [
    {
     "data": {
      "image/png": "[encoded data removed]",
      "text/plain": [
       "<Figure size 432x288 with 1 Axes>"
      ]
     },
     "metadata": {},
     "output_type": "display_data"
    }
   ],
   "source": [
    "_ = sns.distplot(dataset.Glucose).set_ylabel('Distributions')"
   ]
  },
  {
   "cell_type": "code",
   "execution_count": 8,
   "metadata": {},
   "outputs": [
    {
     "data": {
      "text/plain": [
       "count    768.000000\n",
       "mean      33.240885\n",
       "std       11.760232\n",
       "min       21.000000\n",
       "25%       24.000000\n",
       "50%       29.000000\n",
       "75%       41.000000\n",
       "max       81.000000\n",
       "Name: Age, dtype: float64"
      ]
     },
     "execution_count": 8,
     "metadata": {},
     "output_type": "execute_result"
    }
   ],
   "source": [
    "dataset.Age.describe()"
   ]
  },
  {
   "cell_type": "code",
   "execution_count": 9,
   "metadata": {},
   "outputs": [],
   "source": [
    "dataset['agegrp'] = pd.cut(dataset.Age , [18,30,40,50,60,70,80])"
   ]
  },
  {
   "cell_type": "markdown",
   "metadata": {},
   "source": [
    "We can see that the Blood Pressure increases with Age"
   ]
  },
  {
   "cell_type": "code",
   "execution_count": 10,
   "metadata": {},
   "outputs": [
    {
     "data": {
      "text/plain": [
       "<matplotlib.axes._subplots.AxesSubplot at 0x171303807f0>"
      ]
     },
     "execution_count": 10,
     "metadata": {},
     "output_type": "execute_result"
    },
    {
     "data": {
      "image/png": "[encoded data removed]",
      "text/plain": [
       "<Figure size 864x360 with 1 Axes>"
      ]
     },
     "metadata": {},
     "output_type": "display_data"
    }
   ],
   "source": [
    "plt.figure(figsize = (12,5))\n",
    "sns.boxplot(x = dataset.agegrp , y = dataset.BloodPressure)"
   ]
  },
  {
   "cell_type": "code",
   "execution_count": 11,
   "metadata": {},
   "outputs": [],
   "source": [
    "dataset['Outcomex'] = dataset.Outcome.replace({1:'Diabetic' , 0:'Non-Diabetic'})"
   ]
  },
  {
   "cell_type": "code",
   "execution_count": 12,
   "metadata": {},
   "outputs": [
    {
     "data": {
      "text/plain": [
       "<matplotlib.axes._subplots.AxesSubplot at 0x17130915fd0>"
      ]
     },
     "execution_count": 12,
     "metadata": {},
     "output_type": "execute_result"
    },
    {
     "data": {
      "image/png": "[encoded data removed]",
      "text/plain": [
       "<Figure size 864x360 with 1 Axes>"
      ]
     },
     "metadata": {},
     "output_type": "display_data"
    }
   ],
   "source": [
    "plt.figure(figsize = (12,5))\n",
    "sns.boxplot(x = dataset.agegrp , y = dataset.BloodPressure , hue = dataset.Outcomex)"
   ]
  },
  {
   "cell_type": "markdown",
   "metadata": {},
   "source": [
    "## Question 1\n",
    "\n",
    " Research Question : What proportion of people reported that they have diabetes?\n",
    " \n",
    " Target Population: Whole Population\n",
    " \n",
    " Parameter of Interest: Proportion"
   ]
  },
  {
   "cell_type": "code",
   "execution_count": 13,
   "metadata": {},
   "outputs": [
    {
     "data": {
      "text/plain": [
       "0.3489583333333333"
      ]
     },
     "execution_count": 13,
     "metadata": {},
     "output_type": "execute_result"
    }
   ],
   "source": [
    "sample_size_pregnant = dataset[dataset['Outcome'] == 1]['Outcome'].count()\n",
    "total_size = dataset.shape[0]\n",
    "unbiased_point_estimate = np.round(sample_size_pregnant / total_size,100)\n",
    "unbiased_point_estimate"
   ]
  },
  {
   "cell_type": "markdown",
   "metadata": {},
   "source": [
    "So according to our population the unbiased point estimate is 0.35, that means 35% of population in our sample reported that they are preganant\n",
    "\n",
    "Margin of error = z * standard error\n",
    "\n",
    "standard error = sqrt(p-hat*(1-p-hat/total_size))"
   ]
  },
  {
   "cell_type": "code",
   "execution_count": 14,
   "metadata": {},
   "outputs": [
    {
     "data": {
      "text/plain": [
       "0.03371061227097312"
      ]
     },
     "execution_count": 14,
     "metadata": {},
     "output_type": "execute_result"
    }
   ],
   "source": [
    "Margin_of_error = 1.96 * np.sqrt(unbiased_point_estimate * (1-unbiased_point_estimate)/total_size)\n",
    "Margin_of_error"
   ]
  },
  {
   "cell_type": "markdown",
   "metadata": {},
   "source": [
    "\n",
    "We estimated with 95% confidence, that the population proportion of females who are pregnant is estimated to be between 31% to 38% . That means with 95% confidence we are estimating that 32% to 38% of females are pregnant based on our sample size of 768"
   ]
  },
  {
   "cell_type": "code",
   "execution_count": 15,
   "metadata": {},
   "outputs": [
    {
     "data": {
      "text/plain": [
       "(0.3152477210623602, 0.3826689456043064)"
      ]
     },
     "execution_count": 15,
     "metadata": {},
     "output_type": "execute_result"
    }
   ],
   "source": [
    "lcb = unbiased_point_estimate - Margin_of_error\n",
    "ucb = unbiased_point_estimate + Margin_of_error\n",
    "(lcb,ucb)"
   ]
  },
  {
   "cell_type": "markdown",
   "metadata": {},
   "source": [
    "Using statsmodels libray also we got the same result"
   ]
  },
  {
   "cell_type": "code",
   "execution_count": 16,
   "metadata": {},
   "outputs": [
    {
     "data": {
      "text/plain": [
       "(0.3152483405027714, 0.38266832616389523)"
      ]
     },
     "execution_count": 16,
     "metadata": {},
     "output_type": "execute_result"
    }
   ],
   "source": [
    "sm.stats.proportion_confint(sample_size_pregnant,total_size)"
   ]
  },
  {
   "cell_type": "markdown",
   "metadata": {},
   "source": [
    "## Question 2\n",
    "\n",
    "*2.1* Research Question: What is the average number of preganancy for a diabetic patient?\n",
    "\n",
    "Target Population: Preganant Females having diabetes\n",
    "\n",
    "Parameter of Interest: Average Month of pregnancy"
   ]
  },
  {
   "cell_type": "code",
   "execution_count": 17,
   "metadata": {},
   "outputs": [
    {
     "data": {
      "text/plain": [
       "(4.865671641791045, 3.7412390440415546)"
      ]
     },
     "execution_count": 17,
     "metadata": {},
     "output_type": "execute_result"
    }
   ],
   "source": [
    "unbiased_point_estimate = dataset[dataset.Outcome == 1]['Pregnancies'].mean()\n",
    "std = dataset[dataset.Outcome == 1]['Pregnancies'].std()\n",
    "(unbiased_point_estimate ,std)"
   ]
  },
  {
   "cell_type": "code",
   "execution_count": 18,
   "metadata": {},
   "outputs": [
    {
     "data": {
      "text/plain": [
       "0.4479237933103778"
      ]
     },
     "execution_count": 18,
     "metadata": {},
     "output_type": "execute_result"
    }
   ],
   "source": [
    "Margin_of_error = 1.96 * std/np.sqrt(sample_size_pregnant)\n",
    "Margin_of_error"
   ]
  },
  {
   "cell_type": "markdown",
   "metadata": {},
   "source": [
    "We estimated with 95% confidence interval that the average number of pregnancies for a diabetic patient is in between 4.41 to 5.31"
   ]
  },
  {
   "cell_type": "code",
   "execution_count": 19,
   "metadata": {},
   "outputs": [
    {
     "data": {
      "text/plain": [
       "(4.417747848480667, 5.313595435101423)"
      ]
     },
     "execution_count": 19,
     "metadata": {},
     "output_type": "execute_result"
    }
   ],
   "source": [
    "lcb = unbiased_point_estimate - Margin_of_error\n",
    "ucb = unbiased_point_estimate + Margin_of_error\n",
    "(lcb,ucb)"
   ]
  },
  {
   "cell_type": "code",
   "execution_count": 20,
   "metadata": {},
   "outputs": [
    {
     "data": {
      "text/plain": [
       "(4.417756079185482, 5.313587204396608)"
      ]
     },
     "execution_count": 20,
     "metadata": {},
     "output_type": "execute_result"
    }
   ],
   "source": [
    "sm.stats.DescrStatsW(dataset[dataset.Outcome == 1]['Pregnancies']).zconfint_mean()"
   ]
  },
  {
   "cell_type": "markdown",
   "metadata": {},
   "source": [
    "*2.2* Research Question: What is the average month of pregnancy for a non-diabetic patient\n",
    "\n",
    "Target Population: Pregnant females(Non-Diabetic)\n",
    "\n",
    "Parameter of Interest: Average month for pregnancy"
   ]
  },
  {
   "cell_type": "code",
   "execution_count": 21,
   "metadata": {},
   "outputs": [
    {
     "data": {
      "text/plain": [
       "(3.298, 3.0171845826218893)"
      ]
     },
     "execution_count": 21,
     "metadata": {},
     "output_type": "execute_result"
    }
   ],
   "source": [
    "unbiased_point_estimate = dataset[dataset.Outcome == 0]['Pregnancies'].mean()\n",
    "std = dataset[dataset.Outcome == 0]['Pregnancies'].std()\n",
    "(unbiased_point_estimate , std)"
   ]
  },
  {
   "cell_type": "code",
   "execution_count": 22,
   "metadata": {},
   "outputs": [
    {
     "data": {
      "text/plain": [
       "0.26446788923434944"
      ]
     },
     "execution_count": 22,
     "metadata": {},
     "output_type": "execute_result"
    }
   ],
   "source": [
    "Margin_of_error = 1.96 * std/np.sqrt(dataset[dataset.Outcome == 0]['Outcome'].count())\n",
    "Margin_of_error"
   ]
  },
  {
   "cell_type": "code",
   "execution_count": 23,
   "metadata": {},
   "outputs": [
    {
     "data": {
      "text/plain": [
       "(3.0335321107656505, 3.5624678892343495)"
      ]
     },
     "execution_count": 23,
     "metadata": {},
     "output_type": "execute_result"
    }
   ],
   "source": [
    "lcb = unbiased_point_estimate - Margin_of_error\n",
    "ucb = unbiased_point_estimate + Margin_of_error\n",
    "(lcb,ucb)"
   ]
  },
  {
   "cell_type": "markdown",
   "metadata": {},
   "source": [
    "With 95% confidence,the population mean of total number of pregnancies for a non-diabetic patient is estimated to be in between 3.03 to 3.56, we can observe here that it is clearly distinct with the average number of pregnancies for a diabetic patient(4.41 , 5.31). If the number of pregnancies is equal or more than 4, we can estimate that it's a diabetic patient.\n",
    "\n",
    "Below the python code to find out the above results"
   ]
  },
  {
   "cell_type": "code",
   "execution_count": 24,
   "metadata": {},
   "outputs": [
    {
     "data": {
      "text/plain": [
       "(3.033536970425177, 3.562463029574823)"
      ]
     },
     "execution_count": 24,
     "metadata": {},
     "output_type": "execute_result"
    }
   ],
   "source": [
    "sm.stats.DescrStatsW(dataset[dataset.Outcome == 0]['Pregnancies']).zconfint_mean()"
   ]
  },
  {
   "cell_type": "markdown",
   "metadata": {},
   "source": [
    "To solidify our above observation, we can now find the average difference of pregnancies for diabetic and non diabetic patients\n",
    "\n",
    "Research Question: Find the average pregnancy difference for diabetic and non-diabetic patient\n",
    "\n",
    "Population of Interest: Pregnant Females\n",
    "\n",
    "Parameter of Interest: (*U<sub>1</sub>* - *U<sub>2</sub>*):Pregnancies\n",
    "\n",
    "Note that 1 = Diabetic,2 = Non-Diabetic\n"
   ]
  },
  {
   "cell_type": "code",
   "execution_count": 25,
   "metadata": {},
   "outputs": [
    {
     "data": {
      "text/plain": [
       "(13.996869584660965, 9.103402805611225)"
      ]
     },
     "execution_count": 25,
     "metadata": {},
     "output_type": "execute_result"
    }
   ],
   "source": [
    "std1 = dataset[dataset.Outcome == 1]['Pregnancies'].std()\n",
    "std2 = dataset[dataset.Outcome == 0]['Pregnancies'].std()\n",
    "(std1**2 , std2**2)"
   ]
  },
  {
   "cell_type": "markdown",
   "metadata": {},
   "source": [
    "### Unpooled Approach"
   ]
  },
  {
   "cell_type": "code",
   "execution_count": 26,
   "metadata": {},
   "outputs": [
    {
     "name": "stdout",
     "output_type": "stream",
     "text": [
      "1.567671641791045\n"
     ]
    },
    {
     "data": {
      "text/plain": [
       "(268, 500)"
      ]
     },
     "execution_count": 26,
     "metadata": {},
     "output_type": "execute_result"
    }
   ],
   "source": [
    "mean1 = dataset[dataset.Outcome == 1]['Pregnancies'].mean()\n",
    "mean2 = dataset[dataset.Outcome == 0]['Pregnancies'].mean()\n",
    "print(mean1 - mean2)\n",
    "\n",
    "n1 = dataset[dataset.Outcome == 1]['Pregnancies'].count()\n",
    "n2 = dataset[dataset.Outcome == 0]['Pregnancies'].count()\n",
    "\n",
    "(n1,n2)"
   ]
  },
  {
   "cell_type": "code",
   "execution_count": 27,
   "metadata": {},
   "outputs": [
    {
     "data": {
      "text/plain": [
       "0.5254799547144376"
      ]
     },
     "execution_count": 27,
     "metadata": {},
     "output_type": "execute_result"
    }
   ],
   "source": [
    "t_star = 1.98\n",
    "Margin_of_error = t_star*np.sqrt(std1**2/n1 + std**2/n2)\n",
    "Margin_of_error"
   ]
  },
  {
   "cell_type": "code",
   "execution_count": 28,
   "metadata": {},
   "outputs": [
    {
     "data": {
      "text/plain": [
       "(1.0421916870766075, 2.0931515965054825)"
      ]
     },
     "execution_count": 28,
     "metadata": {},
     "output_type": "execute_result"
    }
   ],
   "source": [
    "lcb = (mean1 - mean2) - Margin_of_error\n",
    "ucb = (mean1 - mean2) + Margin_of_error\n",
    "(lcb,ucb)"
   ]
  },
  {
   "cell_type": "markdown",
   "metadata": {},
   "source": [
    "### Pooled Approach"
   ]
  },
  {
   "cell_type": "code",
   "execution_count": 29,
   "metadata": {},
   "outputs": [
    {
     "data": {
      "text/plain": [
       "0.492819572445543"
      ]
     },
     "execution_count": 29,
     "metadata": {},
     "output_type": "execute_result"
    }
   ],
   "source": [
    "Margin_of_error = t_star * np.sqrt(((n1 - 1)*std1**2 + (n2 - 1)*std2**2)/(n1 + n2 - 2)) * np.sqrt(1/n1 + 1/n2)\n",
    "Margin_of_error"
   ]
  },
  {
   "cell_type": "markdown",
   "metadata": {},
   "source": [
    "Here we can see that using both the approaches we get almost same result, and that's the good thing as our results are more robust. So, with 95% confidence interval, the population mean difference between the number of pregnancies for a diabetic patient is estimated to be 1,o4 to 2.09 more than the non-diabetic patient."
   ]
  },
  {
   "cell_type": "code",
   "execution_count": 30,
   "metadata": {},
   "outputs": [
    {
     "data": {
      "text/plain": [
       "(1.0748520693455021, 2.060491214236588)"
      ]
     },
     "execution_count": 30,
     "metadata": {},
     "output_type": "execute_result"
    }
   ],
   "source": [
    "lcb = (mean1 - mean2) - Margin_of_error\n",
    "ucb = (mean1 - mean2) + Margin_of_error\n",
    "(lcb,ucb)"
   ]
  },
  {
   "cell_type": "markdown",
   "metadata": {},
   "source": [
    "### We can also confirm the above results using hypothesis testing\n",
    "\n",
    "Research Question: Is there a significant difference between the number of pregnancies for a diabetic ad non diabetic patient\n",
    "\n",
    "$H_0$ : mu1 - mu2 = 0\n",
    "\n",
    "$H_1$ : mu1 - mu2 $\\neq$ 0\n",
    "\n",
    "significance level = 0.05\n",
    "\n",
    "Test-statistic = Best estimate - Hypothesised result / standard error\n",
    "\n",
    "Test-statistic: A measure of how far our sample statistic is from our hypothesized population parameter, in terms of estimated standard errors. The farther away our sample statistic is, the less confident we will be in our null hypothesised value\n",
    "\n",
    "Assumptions:\n",
    "1. Data collected using simple random sampling.\n",
    "2. Distribution is approximately normal, or we have large enough sample size so that we can rely on central limit theorem\n",
    "\n",
    "#### Pooled Approach"
   ]
  },
  {
   "cell_type": "code",
   "execution_count": 31,
   "metadata": {},
   "outputs": [
    {
     "data": {
      "text/plain": [
       "(5.9069614794974905, 3.484751922877582e-09)"
      ]
     },
     "execution_count": 31,
     "metadata": {},
     "output_type": "execute_result"
    }
   ],
   "source": [
    "best_estimate = mean1 - mean2\n",
    "std_error = np.sqrt(std1**2/n1 + std**2/n2)\n",
    "test_statistic = best_estimate/std_error\n",
    "p_val = 2*dist.norm.cdf(-np.abs(test_statistic))\n",
    "(test_statistic , p_val)"
   ]
  },
  {
   "cell_type": "markdown",
   "metadata": {},
   "source": [
    "#### Unpooled Approach"
   ]
  },
  {
   "cell_type": "code",
   "execution_count": 32,
   "metadata": {},
   "outputs": [
    {
     "data": {
      "text/plain": [
       "(6.298430550035151, 3.006743856829293e-10)"
      ]
     },
     "execution_count": 32,
     "metadata": {},
     "output_type": "execute_result"
    }
   ],
   "source": [
    "best_estimate = mean1 - mean2\n",
    "std_error = np.sqrt(((n1 - 1)*std1**2 + (n2 - 1)*std2**2)/(n1 + n2 - 2)) * np.sqrt(1/n1 + 1/n2)\n",
    "test_statistic = best_estimate/std_error\n",
    "p_val = 2*dist.norm.cdf(-np.abs(test_statistic))\n",
    "(test_statistic , p_val)"
   ]
  },
  {
   "cell_type": "markdown",
   "metadata": {},
   "source": [
    "We can observe that our p-value is less than significance level, that means we have enough evidence to reject our null hypothesis. Based on our estimated difference in sample means we have enough evidence to support that there is a difference between the average number of pregnancies for diabetic and non diabetic patient"
   ]
  },
  {
   "cell_type": "code",
   "execution_count": 33,
   "metadata": {},
   "outputs": [
    {
     "data": {
      "text/plain": [
       "(6.298430550035151, 3.006743856829293e-10)"
      ]
     },
     "execution_count": 33,
     "metadata": {},
     "output_type": "execute_result"
    }
   ],
   "source": [
    "sm.stats.ztest(dataset[dataset.Outcome == 1]['Pregnancies'] , dataset[dataset.Outcome == 0]['Pregnancies'])"
   ]
  },
  {
   "cell_type": "markdown",
   "metadata": {},
   "source": [
    "We can calculate the average difference in number of pregnancies stratified by age "
   ]
  },
  {
   "cell_type": "code",
   "execution_count": 34,
   "metadata": {},
   "outputs": [
    {
     "data": {
      "image/png": "[encoded data removed]",
      "text/plain": [
       "<Figure size 432x288 with 1 Axes>"
      ]
     },
     "metadata": {},
     "output_type": "display_data"
    }
   ],
   "source": [
    "dataset['agegrp'] = pd.cut(dataset.Age , [18,30,40,50,60,70,80,90])\n",
    "\n",
    "dataset['Outcomex'] = dataset.Outcome.replace({1:'Diabetic',0:'Non-Diabetic'})\n",
    "#Mean\n",
    "dx_mean = dataset.groupby(['agegrp','Outcomex']).agg({'Pregnancies':[np.mean]}).unstack()\n",
    "dx_mean.columns = ['Diabetic','Non_Diabetic']\n",
    "\n",
    "# Standard Deviation\n",
    "dx_std = dataset.groupby(['agegrp','Outcomex']).agg({'Pregnancies':[np.std]}).unstack()\n",
    "dx_std.columns = ['Diabetic','Non_Diabetic']\n",
    "\n",
    "# Size\n",
    "dx_size = dataset.groupby(['agegrp','Outcomex']).agg({'Pregnancies':[np.size]}).unstack()\n",
    "dx_size.columns = ['Diabetic','Non_Diabetic']\n",
    "\n",
    "mean_diff = dx_mean.Diabetic - dx_mean.Non_Diabetic\n",
    "se = dx_std/np.sqrt(dx_size)\n",
    "se_diff = np.sqrt(se.Diabetic**2 + se.Non_Diabetic**2)\n",
    "\n",
    "x = np.arange(dx_size.shape[0])\n",
    "pp = sns.pointplot(x , mean_diff , color = 'black')\n",
    "pp.set(xlabel = 'Age group' , ylabel = \"Diabetic-Non Diabetic Pregnancies Mean Difference\")\n",
    "sns.pointplot(x , mean_diff - 1.96*se_diff)\n",
    "sns.pointplot(x , mean_diff + 1.96*se_diff)\n",
    "pp.set_xticklabels(dx_size.index)\n",
    "plt.show()\n"
   ]
  },
  {
   "cell_type": "markdown",
   "metadata": {},
   "source": [
    "Now Let's Look at Blood Pressure of Diabetic and Non Diabetic\n",
    "\n",
    "$Research Question$: What's the average Blood Pressure of diabetic patient?\n",
    "\n",
    "Population: Diabetic Patients\n",
    "\n",
    "Parameter of interest: Average Blood Pressure"
   ]
  },
  {
   "cell_type": "code",
   "execution_count": 37,
   "metadata": {},
   "outputs": [
    {
     "data": {
      "text/plain": [
       "(70.82462686567165, 21.491811650604127)"
      ]
     },
     "execution_count": 37,
     "metadata": {},
     "output_type": "execute_result"
    }
   ],
   "source": [
    "unbiased_point_estimate = dataset[dataset.Outcome == 1]['BloodPressure'].mean()\n",
    "std = dataset[dataset.Outcome == 1]['BloodPressure'].std()\n",
    "(unbiased_point_estimate,std)"
   ]
  },
  {
   "cell_type": "code",
   "execution_count": 38,
   "metadata": {},
   "outputs": [
    {
     "data": {
      "text/plain": [
       "2.5731298338133795"
      ]
     },
     "execution_count": 38,
     "metadata": {},
     "output_type": "execute_result"
    }
   ],
   "source": [
    "Margin_of_error = 1.96 * std/np.sqrt(dataset[dataset.Outcome == 1]['BloodPressure'].count())\n",
    "Margin_of_error"
   ]
  },
  {
   "cell_type": "markdown",
   "metadata": {},
   "source": [
    "We estimated with 95% confidence that the average Blood Pressure for a diabetic patient is in between 68.25 to 73.39"
   ]
  },
  {
   "cell_type": "code",
   "execution_count": 39,
   "metadata": {},
   "outputs": [
    {
     "data": {
      "text/plain": [
       "(68.25149703185826, 73.39775669948503)"
      ]
     },
     "execution_count": 39,
     "metadata": {},
     "output_type": "execute_result"
    }
   ],
   "source": [
    "lcb = unbiased_point_estimate - Margin_of_error\n",
    "ucb = unbiased_point_estimate + Margin_of_error\n",
    "(lcb,ucb)"
   ]
  },
  {
   "cell_type": "code",
   "execution_count": 42,
   "metadata": {},
   "outputs": [
    {
     "data": {
      "text/plain": [
       "(68.25154431372279, 73.3977094176205)"
      ]
     },
     "execution_count": 42,
     "metadata": {},
     "output_type": "execute_result"
    }
   ],
   "source": [
    "sm.stats.DescrStatsW(dataset[dataset.Outcome == 1]['BloodPressure']).zconfint_mean()"
   ]
  },
  {
   "cell_type": "markdown",
   "metadata": {},
   "source": [
    "Research Question: What's the average Blood Pressure of non diabetic patient?\n",
    "\n",
    "Population: Diabetic Patients\n",
    "\n",
    "Parameter of interest: Average Blood Pressure"
   ]
  },
  {
   "cell_type": "code",
   "execution_count": 40,
   "metadata": {},
   "outputs": [
    {
     "data": {
      "text/plain": [
       "(68.184, 18.063075413305828)"
      ]
     },
     "execution_count": 40,
     "metadata": {},
     "output_type": "execute_result"
    }
   ],
   "source": [
    "unbiased_point_estimate = dataset[dataset.Outcome == 0]['BloodPressure'].mean()\n",
    "std = dataset[dataset.Outcome == 0]['BloodPressure'].std()\n",
    "(unbiased_point_estimate,std)"
   ]
  },
  {
   "cell_type": "code",
   "execution_count": 41,
   "metadata": {},
   "outputs": [
    {
     "data": {
      "text/plain": [
       "1.5832983686687918"
      ]
     },
     "execution_count": 41,
     "metadata": {},
     "output_type": "execute_result"
    }
   ],
   "source": [
    "Margin_of_error = 1.96 * std/np.sqrt(dataset[dataset.Outcome == 0]['BloodPressure'].count())\n",
    "Margin_of_error"
   ]
  },
  {
   "cell_type": "code",
   "execution_count": 43,
   "metadata": {},
   "outputs": [
    {
     "data": {
      "text/plain": [
       "(66.6007016313312, 69.76729836866879)"
      ]
     },
     "execution_count": 43,
     "metadata": {},
     "output_type": "execute_result"
    }
   ],
   "source": [
    "lcb = unbiased_point_estimate - Margin_of_error\n",
    "ucb = unbiased_point_estimate + Margin_of_error\n",
    "(lcb,ucb)"
   ]
  },
  {
   "cell_type": "code",
   "execution_count": 46,
   "metadata": {},
   "outputs": [
    {
     "data": {
      "text/plain": [
       "(66.60073072481028, 69.76726927518972)"
      ]
     },
     "execution_count": 46,
     "metadata": {},
     "output_type": "execute_result"
    }
   ],
   "source": [
    "sm.stats.DescrStatsW(dataset[dataset.Outcome == 0]['BloodPressure']).zconfint_mean()"
   ]
  },
  {
   "cell_type": "markdown",
   "metadata": {},
   "source": [
    "Research Question: Is there a significant difference of average Blood Pressure for Diabetic and Non-Diabetic patients?\n",
    "\n",
    "Population: Diabetic Patients\n",
    "\n",
    "Parameter of Interest: (*U<sub>1</sub>* - *U<sub>2</sub>*):Blood Pressure\n",
    "\n",
    "Note that 1 = Diabetic,2 = Non-Diabetic"
   ]
  },
  {
   "cell_type": "code",
   "execution_count": 52,
   "metadata": {},
   "outputs": [
    {
     "data": {
      "text/plain": [
       "(268, 500)"
      ]
     },
     "execution_count": 52,
     "metadata": {},
     "output_type": "execute_result"
    }
   ],
   "source": [
    "mean1 = dataset[dataset.Outcome == 1]['BloodPressure'].mean()\n",
    "mean2 = dataset[dataset.Outcome == 0]['BloodPressure'].mean()\n",
    "(mean1 , mean2)\n",
    "(n1,n2)"
   ]
  },
  {
   "cell_type": "code",
   "execution_count": 49,
   "metadata": {},
   "outputs": [
    {
     "data": {
      "text/plain": [
       "(326.2746933867735, 461.8979680250433)"
      ]
     },
     "execution_count": 49,
     "metadata": {},
     "output_type": "execute_result"
    }
   ],
   "source": [
    "std1 = dataset[dataset.Outcome == 0]['BloodPressure'].std()\n",
    "std2 = dataset[dataset.Outcome == 1]['BloodPressure'].std()\n",
    "(std1**2 , std2**2)"
   ]
  },
  {
   "cell_type": "markdown",
   "metadata": {},
   "source": [
    "#### Pooled Approach"
   ]
  },
  {
   "cell_type": "code",
   "execution_count": 50,
   "metadata": {},
   "outputs": [
    {
     "data": {
      "text/plain": [
       "3.0522557742930365"
      ]
     },
     "execution_count": 50,
     "metadata": {},
     "output_type": "execute_result"
    }
   ],
   "source": [
    "Margin_of_error = t_star * np.sqrt(((n1 - 1)*std1**2 + (n2 - 1)*std2**2)/(n1 + n2 - 2)) * np.sqrt(1/n1 + 1/n2)\n",
    "Margin_of_error"
   ]
  },
  {
   "cell_type": "code",
   "execution_count": 51,
   "metadata": {},
   "outputs": [
    {
     "data": {
      "text/plain": [
       "(-0.41162890862138735, 5.692882639964686)"
      ]
     },
     "execution_count": 51,
     "metadata": {},
     "output_type": "execute_result"
    }
   ],
   "source": [
    "lcb = (mean1 - mean2) - Margin_of_error\n",
    "ucb = (mean1 - mean2) + Margin_of_error\n",
    "(lcb,ucb)"
   ]
  },
  {
   "cell_type": "markdown",
   "metadata": {},
   "source": [
    "#### Unpooled Approach"
   ]
  },
  {
   "cell_type": "code",
   "execution_count": 53,
   "metadata": {},
   "outputs": [
    {
     "data": {
      "text/plain": [
       "2.707603683201397"
      ]
     },
     "execution_count": 53,
     "metadata": {},
     "output_type": "execute_result"
    }
   ],
   "source": [
    "t_star = 1.98\n",
    "Margin_of_error = t_star*np.sqrt(std1**2/n1 + std**2/n2)\n",
    "Margin_of_error"
   ]
  },
  {
   "cell_type": "markdown",
   "metadata": {},
   "source": [
    "In both the approaches we used, we have zero as a possible value for our parameter, so we cannot say that there is a significant difference of average blood pressure for diabetic and non diabetic patient"
   ]
  },
  {
   "cell_type": "code",
   "execution_count": 54,
   "metadata": {},
   "outputs": [
    {
     "data": {
      "text/plain": [
       "(-0.06697681752974782, 5.348230548873046)"
      ]
     },
     "execution_count": 54,
     "metadata": {},
     "output_type": "execute_result"
    }
   ],
   "source": [
    "lcb = (mean1 - mean2) - Margin_of_error\n",
    "ucb = (mean1 - mean2) + Margin_of_error\n",
    "(lcb,ucb)"
   ]
  },
  {
   "cell_type": "markdown",
   "metadata": {},
   "source": [
    "Next we can do hypothesis testing to confirm our above results\n",
    "\n",
    "Research Question: Is there a significant difference of average blood pressure for a diabetic and non diabetic patient\n",
    "\n",
    "$H_0$ : mu1 - mu2 = 0\n",
    "\n",
    "$H_1$ : mu1 - mu2 $\\neq$ 0\n",
    "\n",
    "significance level = 0.05\n",
    "\n",
    "Test-statistic = Best estimate - Hypothesised result / standard error\n",
    "\n",
    "Test-statistic: A measure of how far our sample statistic is from our hypothesized population parameter, in terms of estimated standard errors. The farther away our sample statistic is, the less confident we will be in our null hypothesised value\n",
    "\n",
    "Assumptions:\n",
    "1. Data collected using simple random sampling.\n",
    "2. Distribution is approximately normal, or we have large enough sample size so that we can rely on central limit theorem\n",
    "\n",
    "#### Pooled Approach"
   ]
  },
  {
   "cell_type": "code",
   "execution_count": 55,
   "metadata": {},
   "outputs": [
    {
     "data": {
      "text/plain": [
       "(1.9310215990871673, 0.053480381402312684)"
      ]
     },
     "execution_count": 55,
     "metadata": {},
     "output_type": "execute_result"
    }
   ],
   "source": [
    "best_estimate = mean1 - mean2\n",
    "std_error = np.sqrt(std1**2/n1 + std**2/n2)\n",
    "test_statistic = best_estimate/std_error\n",
    "p_val = 2*dist.norm.cdf(-np.abs(test_statistic))\n",
    "(test_statistic , p_val)"
   ]
  },
  {
   "cell_type": "code",
   "execution_count": 56,
   "metadata": {},
   "outputs": [
    {
     "data": {
      "text/plain": [
       "(1.7129761005172892, 0.08671693649997118)"
      ]
     },
     "execution_count": 56,
     "metadata": {},
     "output_type": "execute_result"
    }
   ],
   "source": [
    "best_estimate = mean1 - mean2\n",
    "std_error = np.sqrt(((n1 - 1)*std1**2 + (n2 - 1)*std2**2)/(n1 + n2 - 2)) * np.sqrt(1/n1 + 1/n2)\n",
    "test_statistic = best_estimate/std_error\n",
    "p_val = 2*dist.norm.cdf(-np.abs(test_statistic))\n",
    "(test_statistic , p_val)"
   ]
  },
  {
   "cell_type": "markdown",
   "metadata": {},
   "source": [
    "We conclude from the above results that we don't have enough evidence to reject the NULL hypothesis as our p-val is not significant at 5% level\n",
    "\n",
    "\n",
    "We can calculate the average BloodPressure difference stratified by age"
   ]
  },
  {
   "cell_type": "code",
   "execution_count": 57,
   "metadata": {},
   "outputs": [
    {
     "data": {
      "image/png": "[encoded data removed]",
      "text/plain": [
       "<Figure size 432x288 with 1 Axes>"
      ]
     },
     "metadata": {},
     "output_type": "display_data"
    }
   ],
   "source": [
    "dataset['agegrp'] = pd.cut(dataset.Age , [18,30,40,50,60,70,80,90])\n",
    "\n",
    "dataset['Outcomex'] = dataset.Outcome.replace({1:'Diabetic',0:'Non-Diabetic'})\n",
    "#Mean\n",
    "dx_mean = dataset.groupby(['agegrp','Outcomex']).agg({'BloodPressure':[np.mean]}).unstack()\n",
    "dx_mean.columns = ['Diabetic','Non_Diabetic']\n",
    "\n",
    "# Standard Deviation\n",
    "dx_std = dataset.groupby(['agegrp','Outcomex']).agg({'BloodPressure':[np.std]}).unstack()\n",
    "dx_std.columns = ['Diabetic','Non_Diabetic']\n",
    "\n",
    "# Size\n",
    "dx_size = dataset.groupby(['agegrp','Outcomex']).agg({'BloodPressure':[np.size]}).unstack()\n",
    "dx_size.columns = ['Diabetic','Non_Diabetic']\n",
    "\n",
    "mean_diff = dx_mean.Diabetic - dx_mean.Non_Diabetic\n",
    "se = dx_std/np.sqrt(dx_size)\n",
    "se_diff = np.sqrt(se.Diabetic**2 + se.Non_Diabetic**2)\n",
    "\n",
    "x = np.arange(dx_size.shape[0])\n",
    "pp = sns.pointplot(x , mean_diff , color = 'black')\n",
    "pp.set(xlabel = 'Age group' , ylabel = \"Diabetic-Non Diabetic BloodPressure Mean Difference\")\n",
    "sns.pointplot(x , mean_diff - 1.96*se_diff)\n",
    "sns.pointplot(x , mean_diff + 1.96*se_diff)\n",
    "pp.set_xticklabels(dx_size.index)\n",
    "plt.show()"
   ]
  },
  {
   "cell_type": "markdown",
   "metadata": {},
   "source": [
    "#### We can also apply our statistics on Glucose\n",
    "\n",
    "$Research Question$: What is the average glucose level for diabetic patient\n",
    "\n",
    "Population: Diabetic Patient\n",
    "\n",
    "Parameter of Interest: Average Glucose level"
   ]
  },
  {
   "cell_type": "code",
   "execution_count": 59,
   "metadata": {},
   "outputs": [
    {
     "data": {
      "text/plain": [
       "141.25746268656715"
      ]
     },
     "execution_count": 59,
     "metadata": {},
     "output_type": "execute_result"
    }
   ],
   "source": [
    "unbiased_point_estimate = dataset[dataset.Outcome == 1]['Glucose'].mean()\n",
    "unbiased_point_estimate"
   ]
  },
  {
   "cell_type": "code",
   "execution_count": 60,
   "metadata": {},
   "outputs": [
    {
     "data": {
      "text/plain": [
       "31.939622058007203"
      ]
     },
     "execution_count": 60,
     "metadata": {},
     "output_type": "execute_result"
    }
   ],
   "source": [
    "std = dataset[dataset.Outcome == 1]['Glucose'].std()\n",
    "std"
   ]
  },
  {
   "cell_type": "code",
   "execution_count": 61,
   "metadata": {},
   "outputs": [
    {
     "data": {
      "text/plain": [
       "1.9510229398885648"
      ]
     },
     "execution_count": 61,
     "metadata": {},
     "output_type": "execute_result"
    }
   ],
   "source": [
    "std_error = std/np.sqrt(dataset[dataset.Outcome == 1]['Glucose'].count())\n",
    "std_error\n",
    "                        "
   ]
  },
  {
   "cell_type": "code",
   "execution_count": 66,
   "metadata": {},
   "outputs": [
    {
     "data": {
      "text/plain": [
       "(137.43345772438556, 145.08146764874874)"
      ]
     },
     "execution_count": 66,
     "metadata": {},
     "output_type": "execute_result"
    }
   ],
   "source": [
    "lcb = unbiased_point_estimate - 1.96 *std_error\n",
    "ucb = unbiased_point_estimate + 1.96 *std_error\n",
    "(lcb , ucb)"
   ]
  },
  {
   "cell_type": "markdown",
   "metadata": {},
   "source": [
    "With 95% confidence, the population average glucose level for diabetic patient is estimated to be in between 138 to 145"
   ]
  },
  {
   "cell_type": "code",
   "execution_count": 65,
   "metadata": {},
   "outputs": [
    {
     "data": {
      "text/plain": [
       "(137.43352799137412, 145.08139738176018)"
      ]
     },
     "execution_count": 65,
     "metadata": {},
     "output_type": "execute_result"
    }
   ],
   "source": [
    "sm.stats.DescrStatsW(dataset[dataset.Outcome == 1]['Glucose']).zconfint_mean()"
   ]
  },
  {
   "cell_type": "markdown",
   "metadata": {},
   "source": [
    "$Research Question$: What is the average glucose level for non-diabetic patient\n",
    "\n",
    "Population: Non-Diabetic Patient\n",
    "\n",
    "Parameter of Interest: Average Glucose level"
   ]
  },
  {
   "cell_type": "code",
   "execution_count": 69,
   "metadata": {},
   "outputs": [
    {
     "name": "stdout",
     "output_type": "stream",
     "text": [
      "(109.98, 26.14119975535359)\n",
      "1.16906999332743\n"
     ]
    },
    {
     "data": {
      "text/plain": [
       "(107.68862281307824, 112.27137718692177)"
      ]
     },
     "execution_count": 69,
     "metadata": {},
     "output_type": "execute_result"
    }
   ],
   "source": [
    "unbiased_point_estimate = dataset[dataset.Outcome == 0]['Glucose'].mean()\n",
    "std = dataset[dataset.Outcome == 0]['Glucose'].std()\n",
    "print((unbiased_point_estimate,std))\n",
    "\n",
    "std_error = std/np.sqrt(dataset[dataset.Outcome == 0]['Glucose'].count())\n",
    "print(std_error)\n",
    "\n",
    "lcb = unbiased_point_estimate - 1.96 *std_error\n",
    "ucb = unbiased_point_estimate + 1.96 *std_error\n",
    "(lcb , ucb)"
   ]
  },
  {
   "cell_type": "markdown",
   "metadata": {},
   "source": [
    "We can see that there is a clear distinction of glucose level between the diabetic and non diabetic patient. Wit 95% confidence the population average glucose level for non diabetic patients is estimated to be in between 108 to 112"
   ]
  },
  {
   "cell_type": "code",
   "execution_count": 71,
   "metadata": {},
   "outputs": [
    {
     "data": {
      "text/plain": [
       "(107.68866491767176, 112.27133508232825)"
      ]
     },
     "execution_count": 71,
     "metadata": {},
     "output_type": "execute_result"
    }
   ],
   "source": [
    "sm.stats.DescrStatsW(dataset[dataset.Outcome == 0]['Glucose']).zconfint_mean()"
   ]
  },
  {
   "cell_type": "markdown",
   "metadata": {},
   "source": [
    "$Research Question$: Is there a significant difference of average Glucose level for Diabetic and Non-Diabetic patients?\n",
    "\n",
    "Population: Patients\n",
    "\n",
    "Parameter of Interest: (*U<sub>1</sub>* - *U<sub>2</sub>*):Glucose\n",
    "\n",
    "Note that 1 = Diabetic,2 = Non-Diabetic"
   ]
  },
  {
   "cell_type": "code",
   "execution_count": 73,
   "metadata": {},
   "outputs": [
    {
     "name": "stdout",
     "output_type": "stream",
     "text": [
      "141.25746268656715 109.98\n",
      "268 500\n"
     ]
    },
    {
     "data": {
      "text/plain": [
       "(1020.1394572083402, 683.3623246492986)"
      ]
     },
     "execution_count": 73,
     "metadata": {},
     "output_type": "execute_result"
    }
   ],
   "source": [
    "mean1 = dataset[dataset.Outcome == 1]['Glucose'].mean()\n",
    "mean2 = dataset[dataset.Outcome == 0]['Glucose'].mean()\n",
    "print(mean1 , mean2)\n",
    "print(n1,n2)\n",
    "\n",
    "std1 = dataset[dataset.Outcome == 1]['Glucose'].std()\n",
    "std2 = dataset[dataset.Outcome == 0]['Glucose'].std()\n",
    "(std1**2 , std2**2)\n",
    "\n"
   ]
  },
  {
   "cell_type": "markdown",
   "metadata": {},
   "source": [
    " The variance is not equal\n",
    " \n",
    " ### Unpooled Approach "
   ]
  },
  {
   "cell_type": "markdown",
   "metadata": {},
   "source": [
    "With 95% confidence, the population average glucose level is 26 to 35 units more in diabetic patients as compared to non diabetic patients."
   ]
  },
  {
   "cell_type": "code",
   "execution_count": 74,
   "metadata": {},
   "outputs": [
    {
     "data": {
      "text/plain": [
       "(26.774011485738725, 35.78091388739557)"
      ]
     },
     "execution_count": 74,
     "metadata": {},
     "output_type": "execute_result"
    }
   ],
   "source": [
    "t_star = 1.98\n",
    "Margin_of_error = t_star*np.sqrt(std1**2/n1 + std**2/n2)\n",
    "Margin_of_error\n",
    "\n",
    "lcb = (mean1 - mean2) - Margin_of_error\n",
    "ucb = (mean1 - mean2) + Margin_of_error\n",
    "(lcb,ucb)"
   ]
  },
  {
   "cell_type": "code",
   "execution_count": 76,
   "metadata": {},
   "outputs": [
    {
     "data": {
      "image/png": "[encoded data removed]",
      "text/plain": [
       "<Figure size 432x288 with 1 Axes>"
      ]
     },
     "metadata": {},
     "output_type": "display_data"
    }
   ],
   "source": [
    "dataset['agegrp'] = pd.cut(dataset.Age , [18,30,40,50,60,70,80,90])\n",
    "\n",
    "dataset['Outcomex'] = dataset.Outcome.replace({1:'Diabetic',0:'Non-Diabetic'})\n",
    "#Mean\n",
    "dx_mean = dataset.groupby(['agegrp','Outcomex']).agg({'Glucose':[np.mean]}).unstack()\n",
    "dx_mean.columns = ['Diabetic','Non_Diabetic']\n",
    "\n",
    "# Standard Deviation\n",
    "dx_std = dataset.groupby(['agegrp','Outcomex']).agg({'Glucose':[np.std]}).unstack()\n",
    "dx_std.columns = ['Diabetic','Non_Diabetic']\n",
    "\n",
    "# Size\n",
    "dx_size = dataset.groupby(['agegrp','Outcomex']).agg({'Glucose':[np.size]}).unstack()\n",
    "dx_size.columns = ['Diabetic','Non_Diabetic']\n",
    "\n",
    "mean_diff = dx_mean.Diabetic - dx_mean.Non_Diabetic\n",
    "se = dx_std/np.sqrt(dx_size)\n",
    "se_diff = np.sqrt(se.Diabetic**2 + se.Non_Diabetic**2)\n",
    "\n",
    "x = np.arange(dx_size.shape[0])\n",
    "pp = sns.pointplot(x , mean_diff , color = 'black')\n",
    "pp.set(xlabel = 'Age group' , ylabel = \"Diabetic-Non Diabetic Glucose Mean Difference\")\n",
    "sns.pointplot(x , mean_diff - 1.96*se_diff)\n",
    "sns.pointplot(x , mean_diff + 1.96*se_diff)\n",
    "pp.set_xticklabels(dx_size.index)\n",
    "plt.show()"
   ]
  },
  {
   "cell_type": "markdown",
   "metadata": {},
   "source": [
    "As we can observe from the above plot, the difference in estimated average glucose level is larger for higher age groups, one reason for that might be because we have less data in these age groups, as shown below "
   ]
  },
  {
   "cell_type": "code",
   "execution_count": 95,
   "metadata": {},
   "outputs": [
    {
     "data": {
      "text/html": [
       "<div>\n",
       "<style scoped>\n",
       "    .dataframe tbody tr th:only-of-type {\n",
       "        vertical-align: middle;\n",
       "    }\n",
       "\n",
       "    .dataframe tbody tr th {\n",
       "        vertical-align: top;\n",
       "    }\n",
       "\n",
       "    .dataframe thead th {\n",
       "        text-align: right;\n",
       "    }\n",
       "</style>\n",
       "<table border=\"1\" class=\"dataframe\">\n",
       "  <thead>\n",
       "    <tr style=\"text-align: right;\">\n",
       "      <th>Outcomex</th>\n",
       "      <th>Diabetic</th>\n",
       "      <th>Non-Diabetic</th>\n",
       "      <th>Total</th>\n",
       "    </tr>\n",
       "    <tr>\n",
       "      <th>agegrp</th>\n",
       "      <th></th>\n",
       "      <th></th>\n",
       "      <th></th>\n",
       "    </tr>\n",
       "  </thead>\n",
       "  <tbody>\n",
       "    <tr>\n",
       "      <th>(18, 30]</th>\n",
       "      <td>0.335821</td>\n",
       "      <td>0.654</td>\n",
       "      <td>0.542969</td>\n",
       "    </tr>\n",
       "    <tr>\n",
       "      <th>(30, 40]</th>\n",
       "      <td>0.283582</td>\n",
       "      <td>0.162</td>\n",
       "      <td>0.204427</td>\n",
       "    </tr>\n",
       "    <tr>\n",
       "      <th>(40, 50]</th>\n",
       "      <td>0.238806</td>\n",
       "      <td>0.098</td>\n",
       "      <td>0.147135</td>\n",
       "    </tr>\n",
       "    <tr>\n",
       "      <th>(50, 60]</th>\n",
       "      <td>0.115672</td>\n",
       "      <td>0.046</td>\n",
       "      <td>0.070312</td>\n",
       "    </tr>\n",
       "    <tr>\n",
       "      <th>(60, 70]</th>\n",
       "      <td>0.026119</td>\n",
       "      <td>0.036</td>\n",
       "      <td>0.032552</td>\n",
       "    </tr>\n",
       "    <tr>\n",
       "      <th>(70, 80]</th>\n",
       "      <td>NaN</td>\n",
       "      <td>0.002</td>\n",
       "      <td>0.001302</td>\n",
       "    </tr>\n",
       "    <tr>\n",
       "      <th>(80, 90]</th>\n",
       "      <td>NaN</td>\n",
       "      <td>0.002</td>\n",
       "      <td>0.001302</td>\n",
       "    </tr>\n",
       "  </tbody>\n",
       "</table>\n",
       "</div>"
      ],
      "text/plain": [
       "Outcomex  Diabetic  Non-Diabetic     Total\n",
       "agegrp                                    \n",
       "(18, 30]  0.335821         0.654  0.542969\n",
       "(30, 40]  0.283582         0.162  0.204427\n",
       "(40, 50]  0.238806         0.098  0.147135\n",
       "(50, 60]  0.115672         0.046  0.070312\n",
       "(60, 70]  0.026119         0.036  0.032552\n",
       "(70, 80]       NaN         0.002  0.001302\n",
       "(80, 90]       NaN         0.002  0.001302"
      ]
     },
     "execution_count": 95,
     "metadata": {},
     "output_type": "execute_result"
    }
   ],
   "source": [
    "dx = dataset.groupby(['agegrp' , 'Outcomex'])['Outcome'].apply(lambda x:x.count()).unstack()\n",
    "dx['Total'] = dx.sum(axis = 1)\n",
    "dx = dx.apply(lambda x:x/x.sum(axis = 0))\n",
    "dx"
   ]
  },
  {
   "cell_type": "code",
   "execution_count": 96,
   "metadata": {},
   "outputs": [
    {
     "data": {
      "text/html": [
       "<div>\n",
       "<style scoped>\n",
       "    .dataframe tbody tr th:only-of-type {\n",
       "        vertical-align: middle;\n",
       "    }\n",
       "\n",
       "    .dataframe tbody tr th {\n",
       "        vertical-align: top;\n",
       "    }\n",
       "\n",
       "    .dataframe thead th {\n",
       "        text-align: right;\n",
       "    }\n",
       "</style>\n",
       "<table border=\"1\" class=\"dataframe\">\n",
       "  <thead>\n",
       "    <tr style=\"text-align: right;\">\n",
       "      <th></th>\n",
       "      <th>Pregnancies</th>\n",
       "      <th>Glucose</th>\n",
       "      <th>BloodPressure</th>\n",
       "      <th>SkinThickness</th>\n",
       "      <th>Insulin</th>\n",
       "      <th>BMI</th>\n",
       "      <th>DiabetesPedigreeFunction</th>\n",
       "      <th>Age</th>\n",
       "      <th>Outcome</th>\n",
       "      <th>agegrp</th>\n",
       "      <th>Outcomex</th>\n",
       "    </tr>\n",
       "  </thead>\n",
       "  <tbody>\n",
       "    <tr>\n",
       "      <th>0</th>\n",
       "      <td>6</td>\n",
       "      <td>148</td>\n",
       "      <td>72</td>\n",
       "      <td>35</td>\n",
       "      <td>0</td>\n",
       "      <td>33.6</td>\n",
       "      <td>0.627</td>\n",
       "      <td>50</td>\n",
       "      <td>1</td>\n",
       "      <td>(40, 50]</td>\n",
       "      <td>Diabetic</td>\n",
       "    </tr>\n",
       "    <tr>\n",
       "      <th>1</th>\n",
       "      <td>1</td>\n",
       "      <td>85</td>\n",
       "      <td>66</td>\n",
       "      <td>29</td>\n",
       "      <td>0</td>\n",
       "      <td>26.6</td>\n",
       "      <td>0.351</td>\n",
       "      <td>31</td>\n",
       "      <td>0</td>\n",
       "      <td>(30, 40]</td>\n",
       "      <td>Non-Diabetic</td>\n",
       "    </tr>\n",
       "    <tr>\n",
       "      <th>2</th>\n",
       "      <td>8</td>\n",
       "      <td>183</td>\n",
       "      <td>64</td>\n",
       "      <td>0</td>\n",
       "      <td>0</td>\n",
       "      <td>23.3</td>\n",
       "      <td>0.672</td>\n",
       "      <td>32</td>\n",
       "      <td>1</td>\n",
       "      <td>(30, 40]</td>\n",
       "      <td>Diabetic</td>\n",
       "    </tr>\n",
       "    <tr>\n",
       "      <th>3</th>\n",
       "      <td>1</td>\n",
       "      <td>89</td>\n",
       "      <td>66</td>\n",
       "      <td>23</td>\n",
       "      <td>94</td>\n",
       "      <td>28.1</td>\n",
       "      <td>0.167</td>\n",
       "      <td>21</td>\n",
       "      <td>0</td>\n",
       "      <td>(18, 30]</td>\n",
       "      <td>Non-Diabetic</td>\n",
       "    </tr>\n",
       "    <tr>\n",
       "      <th>4</th>\n",
       "      <td>0</td>\n",
       "      <td>137</td>\n",
       "      <td>40</td>\n",
       "      <td>35</td>\n",
       "      <td>168</td>\n",
       "      <td>43.1</td>\n",
       "      <td>2.288</td>\n",
       "      <td>33</td>\n",
       "      <td>1</td>\n",
       "      <td>(30, 40]</td>\n",
       "      <td>Diabetic</td>\n",
       "    </tr>\n",
       "  </tbody>\n",
       "</table>\n",
       "</div>"
      ],
      "text/plain": [
       "   Pregnancies  Glucose  BloodPressure  SkinThickness  Insulin   BMI  \\\n",
       "0            6      148             72             35        0  33.6   \n",
       "1            1       85             66             29        0  26.6   \n",
       "2            8      183             64              0        0  23.3   \n",
       "3            1       89             66             23       94  28.1   \n",
       "4            0      137             40             35      168  43.1   \n",
       "\n",
       "   DiabetesPedigreeFunction  Age  Outcome    agegrp      Outcomex  \n",
       "0                     0.627   50        1  (40, 50]      Diabetic  \n",
       "1                     0.351   31        0  (30, 40]  Non-Diabetic  \n",
       "2                     0.672   32        1  (30, 40]      Diabetic  \n",
       "3                     0.167   21        0  (18, 30]  Non-Diabetic  \n",
       "4                     2.288   33        1  (30, 40]      Diabetic  "
      ]
     },
     "execution_count": 96,
     "metadata": {},
     "output_type": "execute_result"
    }
   ],
   "source": [
    "dataset.head()"
   ]
  },
  {
   "cell_type": "markdown",
   "metadata": {},
   "source": [
    "**Important Note**: So far we have got two possible predictors one is Pregnancies and the other is Glucose level.\n",
    "\n",
    "Let's do some model fitting based on that"
   ]
  },
  {
   "cell_type": "code",
   "execution_count": 107,
   "metadata": {},
   "outputs": [
    {
     "data": {
      "text/html": [
       "<table class=\"simpletable\">\n",
       "<caption>Generalized Linear Model Regression Results</caption>\n",
       "<tr>\n",
       "  <th>Dep. Variable:</th>        <td>Outcome</td>     <th>  No. Observations:  </th>  <td>   768</td> \n",
       "</tr>\n",
       "<tr>\n",
       "  <th>Model:</th>                  <td>GLM</td>       <th>  Df Residuals:      </th>  <td>   766</td> \n",
       "</tr>\n",
       "<tr>\n",
       "  <th>Model Family:</th>        <td>Binomial</td>     <th>  Df Model:          </th>  <td>     1</td> \n",
       "</tr>\n",
       "<tr>\n",
       "  <th>Link Function:</th>         <td>logit</td>      <th>  Scale:             </th> <td>  1.0000</td>\n",
       "</tr>\n",
       "<tr>\n",
       "  <th>Method:</th>                <td>IRLS</td>       <th>  Log-Likelihood:    </th> <td> -478.10</td>\n",
       "</tr>\n",
       "<tr>\n",
       "  <th>Date:</th>            <td>Tue, 23 Jun 2020</td> <th>  Deviance:          </th> <td>  956.21</td>\n",
       "</tr>\n",
       "<tr>\n",
       "  <th>Time:</th>                <td>10:51:43</td>     <th>  Pearson chi2:      </th>  <td>  770.</td> \n",
       "</tr>\n",
       "<tr>\n",
       "  <th>No. Iterations:</th>          <td>4</td>        <th>                     </th>     <td> </td>   \n",
       "</tr>\n",
       "<tr>\n",
       "  <th>Covariance Type:</th>     <td>nonrobust</td>    <th>                     </th>     <td> </td>   \n",
       "</tr>\n",
       "</table>\n",
       "<table class=\"simpletable\">\n",
       "<tr>\n",
       "       <td></td>          <th>coef</th>     <th>std err</th>      <th>z</th>      <th>P>|z|</th>  <th>[0.025</th>    <th>0.975]</th>  \n",
       "</tr>\n",
       "<tr>\n",
       "  <th>Intercept</th>   <td>   -1.1767</td> <td>    0.123</td> <td>   -9.558</td> <td> 0.000</td> <td>   -1.418</td> <td>   -0.935</td>\n",
       "</tr>\n",
       "<tr>\n",
       "  <th>Pregnancies</th> <td>    0.1372</td> <td>    0.023</td> <td>    5.986</td> <td> 0.000</td> <td>    0.092</td> <td>    0.182</td>\n",
       "</tr>\n",
       "</table>"
      ],
      "text/plain": [
       "<class 'statsmodels.iolib.summary.Summary'>\n",
       "\"\"\"\n",
       "                 Generalized Linear Model Regression Results                  \n",
       "==============================================================================\n",
       "Dep. Variable:                Outcome   No. Observations:                  768\n",
       "Model:                            GLM   Df Residuals:                      766\n",
       "Model Family:                Binomial   Df Model:                            1\n",
       "Link Function:                  logit   Scale:                          1.0000\n",
       "Method:                          IRLS   Log-Likelihood:                -478.10\n",
       "Date:                Tue, 23 Jun 2020   Deviance:                       956.21\n",
       "Time:                        10:51:43   Pearson chi2:                     770.\n",
       "No. Iterations:                     4                                         \n",
       "Covariance Type:            nonrobust                                         \n",
       "===============================================================================\n",
       "                  coef    std err          z      P>|z|      [0.025      0.975]\n",
       "-------------------------------------------------------------------------------\n",
       "Intercept      -1.1767      0.123     -9.558      0.000      -1.418      -0.935\n",
       "Pregnancies     0.1372      0.023      5.986      0.000       0.092       0.182\n",
       "===============================================================================\n",
       "\"\"\""
      ]
     },
     "execution_count": 107,
     "metadata": {},
     "output_type": "execute_result"
    }
   ],
   "source": [
    "model = sm.GLM.from_formula('Outcome ~ Pregnancies', family = sm.families.Binomial() , data = dataset)\n",
    "result = model.fit()\n",
    "result.summary()"
   ]
  },
  {
   "cell_type": "markdown",
   "metadata": {},
   "source": [
    "### Add additional covariate"
   ]
  },
  {
   "cell_type": "code",
   "execution_count": 113,
   "metadata": {},
   "outputs": [
    {
     "data": {
      "text/html": [
       "<table class=\"simpletable\">\n",
       "<caption>Generalized Linear Model Regression Results</caption>\n",
       "<tr>\n",
       "  <th>Dep. Variable:</th>        <td>Outcome</td>     <th>  No. Observations:  </th>  <td>   768</td> \n",
       "</tr>\n",
       "<tr>\n",
       "  <th>Model:</th>                  <td>GLM</td>       <th>  Df Residuals:      </th>  <td>   765</td> \n",
       "</tr>\n",
       "<tr>\n",
       "  <th>Model Family:</th>        <td>Binomial</td>     <th>  Df Model:          </th>  <td>     2</td> \n",
       "</tr>\n",
       "<tr>\n",
       "  <th>Link Function:</th>         <td>logit</td>      <th>  Scale:             </th> <td>  1.0000</td>\n",
       "</tr>\n",
       "<tr>\n",
       "  <th>Method:</th>                <td>IRLS</td>       <th>  Log-Likelihood:    </th> <td> -392.47</td>\n",
       "</tr>\n",
       "<tr>\n",
       "  <th>Date:</th>            <td>Tue, 23 Jun 2020</td> <th>  Deviance:          </th> <td>  784.95</td>\n",
       "</tr>\n",
       "<tr>\n",
       "  <th>Time:</th>                <td>10:57:00</td>     <th>  Pearson chi2:      </th> <td>1.03e+03</td>\n",
       "</tr>\n",
       "<tr>\n",
       "  <th>No. Iterations:</th>          <td>5</td>        <th>                     </th>     <td> </td>   \n",
       "</tr>\n",
       "<tr>\n",
       "  <th>Covariance Type:</th>     <td>nonrobust</td>    <th>                     </th>     <td> </td>   \n",
       "</tr>\n",
       "</table>\n",
       "<table class=\"simpletable\">\n",
       "<tr>\n",
       "       <td></td>          <th>coef</th>     <th>std err</th>      <th>z</th>      <th>P>|z|</th>  <th>[0.025</th>    <th>0.975]</th>  \n",
       "</tr>\n",
       "<tr>\n",
       "  <th>Intercept</th>   <td>   -5.7515</td> <td>    0.441</td> <td>  -13.052</td> <td> 0.000</td> <td>   -6.615</td> <td>   -4.888</td>\n",
       "</tr>\n",
       "<tr>\n",
       "  <th>Pregnancies</th> <td>    0.1233</td> <td>    0.026</td> <td>    4.818</td> <td> 0.000</td> <td>    0.073</td> <td>    0.173</td>\n",
       "</tr>\n",
       "<tr>\n",
       "  <th>Glucose</th>     <td>    0.0371</td> <td>    0.003</td> <td>   11.321</td> <td> 0.000</td> <td>    0.031</td> <td>    0.043</td>\n",
       "</tr>\n",
       "</table>"
      ],
      "text/plain": [
       "<class 'statsmodels.iolib.summary.Summary'>\n",
       "\"\"\"\n",
       "                 Generalized Linear Model Regression Results                  \n",
       "==============================================================================\n",
       "Dep. Variable:                Outcome   No. Observations:                  768\n",
       "Model:                            GLM   Df Residuals:                      765\n",
       "Model Family:                Binomial   Df Model:                            2\n",
       "Link Function:                  logit   Scale:                          1.0000\n",
       "Method:                          IRLS   Log-Likelihood:                -392.47\n",
       "Date:                Tue, 23 Jun 2020   Deviance:                       784.95\n",
       "Time:                        10:57:00   Pearson chi2:                 1.03e+03\n",
       "No. Iterations:                     5                                         \n",
       "Covariance Type:            nonrobust                                         \n",
       "===============================================================================\n",
       "                  coef    std err          z      P>|z|      [0.025      0.975]\n",
       "-------------------------------------------------------------------------------\n",
       "Intercept      -5.7515      0.441    -13.052      0.000      -6.615      -4.888\n",
       "Pregnancies     0.1233      0.026      4.818      0.000       0.073       0.173\n",
       "Glucose         0.0371      0.003     11.321      0.000       0.031       0.043\n",
       "===============================================================================\n",
       "\"\"\""
      ]
     },
     "execution_count": 113,
     "metadata": {},
     "output_type": "execute_result"
    }
   ],
   "source": [
    "model = sm.GLM.from_formula('Outcome ~ Pregnancies + Glucose', family = sm.families.Binomial() , data = dataset)\n",
    "result = model.fit()\n",
    "result.summary()"
   ]
  },
  {
   "cell_type": "markdown",
   "metadata": {},
   "source": [
    "Adding Glucose to the model leads to a very small shift in the Pregnancies (it changed from .1372 to .1233).In general, regression coefficients can change a lot when adding or removing other variables from a model.  But in this case the change is quite minimal. The log odds for Diabeties increases by 0.026 for each unit increase in glucose. This effect is additive, so\n",
    "that comparing two people whose glucose level differ by 20 units, the log odds\n",
    "of the person being diabetic will be around 0.52 units greater than the\n",
    "log odds for the person having lower glucose level, and the odds for the higher glucose level person will be around `exp(0.52) = 1.68` times greater than\n",
    "the odds for the lower glucose level.\n",
    "\n"
   ]
  },
  {
   "cell_type": "markdown",
   "metadata": {},
   "source": [
    "The following plot shows the fitted log odds (or logit) probability\n",
    "for the diabeties outcome as a function of pregnancies.  The grey band is a\n",
    "simultaneous 95% simultaneous confidence band."
   ]
  },
  {
   "cell_type": "code",
   "execution_count": 134,
   "metadata": {},
   "outputs": [
    {
     "data": {
      "image/png": "[encoded data removed]",
      "text/plain": [
       "<Figure size 432x288 with 1 Axes>"
      ]
     },
     "metadata": {},
     "output_type": "display_data"
    }
   ],
   "source": [
    "from statsmodels.sandbox.predict_functional import predict_functional\n",
    "\n",
    "values = {\"Glucose\":120,'BloodPressure':80,'SkinThickness':30,'Insulin':0,'BMI':30,'DiabetesPedigreeFunction':0.627,'Age':50,'Outcomex':'Diabeties','agegrp':'[18,30)'}\n",
    "\n",
    "pr , cb , fv = predict_functional(result , 'Pregnancies' , values = values , ci_method = 'simultaneous')\n",
    "\n",
    "ax = sns.lineplot(fv , pr , lw = 4)\n",
    "ax.fill_between(fv , cb[:,0],cb[:,1],color = 'grey',alpha = 0.5)\n",
    "ax.set_xlabel('Pregnancies')\n",
    "_ = ax.set_ylabel('Diabeties')"
   ]
  },
  {
   "cell_type": "code",
   "execution_count": 137,
   "metadata": {},
   "outputs": [
    {
     "data": {
      "image/png": "[encoded data removed]",
      "text/plain": [
       "<Figure size 432x288 with 1 Axes>"
      ]
     },
     "metadata": {},
     "output_type": "display_data"
    }
   ],
   "source": [
    "values = {\"Pregnancies\":3,'BloodPressure':80,'SkinThickness':30,'Insulin':0,'BMI':30,'DiabetesPedigreeFunction':0.627,'Age':50,'Outcomex':'Diabeties','agegrp':'[18,30)'}\n",
    "\n",
    "pr , cb , fv = predict_functional(result , 'Glucose' , values = values , ci_method = 'simultaneous')\n",
    "\n",
    "ax = sns.lineplot(fv , pr , lw = 4)\n",
    "ax.fill_between(fv , cb[:,0],cb[:,1],color = 'grey',alpha = 0.5)\n",
    "ax.set_xlabel('Glucose')\n",
    "_ = ax.set_ylabel('Diabeties')"
   ]
  },
  {
   "cell_type": "code",
   "execution_count": 144,
   "metadata": {},
   "outputs": [
    {
     "data": {
      "image/png": "[encoded data removed]",
      "text/plain": [
       "<Figure size 432x288 with 1 Axes>"
      ]
     },
     "metadata": {},
     "output_type": "display_data"
    }
   ],
   "source": [
    "from statsmodels.graphics.regressionplots import add_lowess\n",
    "fig = result.plot_ceres_residuals(\"Glucose\")\n",
    "ax = fig.get_axes()[0]\n",
    "ax.lines[0].set_alpha(0.2)\n",
    "_ = add_lowess(ax)"
   ]
  },
  {
   "cell_type": "markdown",
   "metadata": {},
   "source": [
    "We can see that after 125 units of glucose level there is a sharp non linearity in a curve."
   ]
  },
  {
   "cell_type": "code",
   "execution_count": 26,
   "metadata": {},
   "outputs": [
    {
     "data": {
      "text/html": [
       "<div>\n",
       "<style scoped>\n",
       "    .dataframe tbody tr th:only-of-type {\n",
       "        vertical-align: middle;\n",
       "    }\n",
       "\n",
       "    .dataframe tbody tr th {\n",
       "        vertical-align: top;\n",
       "    }\n",
       "\n",
       "    .dataframe thead th {\n",
       "        text-align: right;\n",
       "    }\n",
       "</style>\n",
       "<table border=\"1\" class=\"dataframe\">\n",
       "  <thead>\n",
       "    <tr style=\"text-align: right;\">\n",
       "      <th></th>\n",
       "      <th>Pregnancies</th>\n",
       "      <th>Glucose</th>\n",
       "      <th>BloodPressure</th>\n",
       "      <th>SkinThickness</th>\n",
       "      <th>Insulin</th>\n",
       "      <th>BMI</th>\n",
       "      <th>DiabetesPedigreeFunction</th>\n",
       "      <th>Age</th>\n",
       "      <th>Outcome</th>\n",
       "      <th>agegrp</th>\n",
       "      <th>Outcomex</th>\n",
       "    </tr>\n",
       "  </thead>\n",
       "  <tbody>\n",
       "    <tr>\n",
       "      <th>0</th>\n",
       "      <td>6</td>\n",
       "      <td>148</td>\n",
       "      <td>72</td>\n",
       "      <td>35</td>\n",
       "      <td>0</td>\n",
       "      <td>33.6</td>\n",
       "      <td>0.627</td>\n",
       "      <td>50</td>\n",
       "      <td>1</td>\n",
       "      <td>(40, 50]</td>\n",
       "      <td>Diabetic</td>\n",
       "    </tr>\n",
       "    <tr>\n",
       "      <th>1</th>\n",
       "      <td>1</td>\n",
       "      <td>85</td>\n",
       "      <td>66</td>\n",
       "      <td>29</td>\n",
       "      <td>0</td>\n",
       "      <td>26.6</td>\n",
       "      <td>0.351</td>\n",
       "      <td>31</td>\n",
       "      <td>0</td>\n",
       "      <td>(30, 40]</td>\n",
       "      <td>Non-Diabetic</td>\n",
       "    </tr>\n",
       "    <tr>\n",
       "      <th>2</th>\n",
       "      <td>8</td>\n",
       "      <td>183</td>\n",
       "      <td>64</td>\n",
       "      <td>0</td>\n",
       "      <td>0</td>\n",
       "      <td>23.3</td>\n",
       "      <td>0.672</td>\n",
       "      <td>32</td>\n",
       "      <td>1</td>\n",
       "      <td>(30, 40]</td>\n",
       "      <td>Diabetic</td>\n",
       "    </tr>\n",
       "    <tr>\n",
       "      <th>3</th>\n",
       "      <td>1</td>\n",
       "      <td>89</td>\n",
       "      <td>66</td>\n",
       "      <td>23</td>\n",
       "      <td>94</td>\n",
       "      <td>28.1</td>\n",
       "      <td>0.167</td>\n",
       "      <td>21</td>\n",
       "      <td>0</td>\n",
       "      <td>(18, 30]</td>\n",
       "      <td>Non-Diabetic</td>\n",
       "    </tr>\n",
       "    <tr>\n",
       "      <th>4</th>\n",
       "      <td>0</td>\n",
       "      <td>137</td>\n",
       "      <td>40</td>\n",
       "      <td>35</td>\n",
       "      <td>168</td>\n",
       "      <td>43.1</td>\n",
       "      <td>2.288</td>\n",
       "      <td>33</td>\n",
       "      <td>1</td>\n",
       "      <td>(30, 40]</td>\n",
       "      <td>Diabetic</td>\n",
       "    </tr>\n",
       "  </tbody>\n",
       "</table>\n",
       "</div>"
      ],
      "text/plain": [
       "   Pregnancies  Glucose  BloodPressure  SkinThickness  Insulin   BMI  \\\n",
       "0            6      148             72             35        0  33.6   \n",
       "1            1       85             66             29        0  26.6   \n",
       "2            8      183             64              0        0  23.3   \n",
       "3            1       89             66             23       94  28.1   \n",
       "4            0      137             40             35      168  43.1   \n",
       "\n",
       "   DiabetesPedigreeFunction  Age  Outcome    agegrp      Outcomex  \n",
       "0                     0.627   50        1  (40, 50]      Diabetic  \n",
       "1                     0.351   31        0  (30, 40]  Non-Diabetic  \n",
       "2                     0.672   32        1  (30, 40]      Diabetic  \n",
       "3                     0.167   21        0  (18, 30]  Non-Diabetic  \n",
       "4                     2.288   33        1  (30, 40]      Diabetic  "
      ]
     },
     "execution_count": 26,
     "metadata": {},
     "output_type": "execute_result"
    }
   ],
   "source": [
    "dataset.head()"
   ]
  },
  {
   "cell_type": "code",
   "execution_count": 36,
   "metadata": {},
   "outputs": [
    {
     "data": {
      "text/html": [
       "<div>\n",
       "<style scoped>\n",
       "    .dataframe tbody tr th:only-of-type {\n",
       "        vertical-align: middle;\n",
       "    }\n",
       "\n",
       "    .dataframe tbody tr th {\n",
       "        vertical-align: top;\n",
       "    }\n",
       "\n",
       "    .dataframe thead th {\n",
       "        text-align: right;\n",
       "    }\n",
       "</style>\n",
       "<table border=\"1\" class=\"dataframe\">\n",
       "  <thead>\n",
       "    <tr style=\"text-align: right;\">\n",
       "      <th></th>\n",
       "      <th>Pregnancies</th>\n",
       "      <th>Glucose</th>\n",
       "      <th>BloodPressure</th>\n",
       "      <th>SkinThickness</th>\n",
       "      <th>Insulin</th>\n",
       "      <th>BMI</th>\n",
       "      <th>DiabetesPedigreeFunction</th>\n",
       "      <th>Age</th>\n",
       "      <th>Outcome</th>\n",
       "      <th>agegrp</th>\n",
       "      <th>Outcomex</th>\n",
       "      <th>Pred</th>\n",
       "    </tr>\n",
       "  </thead>\n",
       "  <tbody>\n",
       "    <tr>\n",
       "      <th>0</th>\n",
       "      <td>6</td>\n",
       "      <td>148</td>\n",
       "      <td>72</td>\n",
       "      <td>35</td>\n",
       "      <td>0</td>\n",
       "      <td>33.6</td>\n",
       "      <td>0.627</td>\n",
       "      <td>50</td>\n",
       "      <td>1</td>\n",
       "      <td>(40, 50]</td>\n",
       "      <td>Diabetic</td>\n",
       "      <td>1</td>\n",
       "    </tr>\n",
       "    <tr>\n",
       "      <th>1</th>\n",
       "      <td>1</td>\n",
       "      <td>85</td>\n",
       "      <td>66</td>\n",
       "      <td>29</td>\n",
       "      <td>0</td>\n",
       "      <td>26.6</td>\n",
       "      <td>0.351</td>\n",
       "      <td>31</td>\n",
       "      <td>0</td>\n",
       "      <td>(30, 40]</td>\n",
       "      <td>Non-Diabetic</td>\n",
       "      <td>0</td>\n",
       "    </tr>\n",
       "    <tr>\n",
       "      <th>2</th>\n",
       "      <td>8</td>\n",
       "      <td>183</td>\n",
       "      <td>64</td>\n",
       "      <td>0</td>\n",
       "      <td>0</td>\n",
       "      <td>23.3</td>\n",
       "      <td>0.672</td>\n",
       "      <td>32</td>\n",
       "      <td>1</td>\n",
       "      <td>(30, 40]</td>\n",
       "      <td>Diabetic</td>\n",
       "      <td>1</td>\n",
       "    </tr>\n",
       "    <tr>\n",
       "      <th>3</th>\n",
       "      <td>1</td>\n",
       "      <td>89</td>\n",
       "      <td>66</td>\n",
       "      <td>23</td>\n",
       "      <td>94</td>\n",
       "      <td>28.1</td>\n",
       "      <td>0.167</td>\n",
       "      <td>21</td>\n",
       "      <td>0</td>\n",
       "      <td>(18, 30]</td>\n",
       "      <td>Non-Diabetic</td>\n",
       "      <td>0</td>\n",
       "    </tr>\n",
       "    <tr>\n",
       "      <th>4</th>\n",
       "      <td>0</td>\n",
       "      <td>137</td>\n",
       "      <td>40</td>\n",
       "      <td>35</td>\n",
       "      <td>168</td>\n",
       "      <td>43.1</td>\n",
       "      <td>2.288</td>\n",
       "      <td>33</td>\n",
       "      <td>1</td>\n",
       "      <td>(30, 40]</td>\n",
       "      <td>Diabetic</td>\n",
       "      <td>1</td>\n",
       "    </tr>\n",
       "  </tbody>\n",
       "</table>\n",
       "</div>"
      ],
      "text/plain": [
       "   Pregnancies  Glucose  BloodPressure  SkinThickness  Insulin   BMI  \\\n",
       "0            6      148             72             35        0  33.6   \n",
       "1            1       85             66             29        0  26.6   \n",
       "2            8      183             64              0        0  23.3   \n",
       "3            1       89             66             23       94  28.1   \n",
       "4            0      137             40             35      168  43.1   \n",
       "\n",
       "   DiabetesPedigreeFunction  Age  Outcome    agegrp      Outcomex  Pred  \n",
       "0                     0.627   50        1  (40, 50]      Diabetic     1  \n",
       "1                     0.351   31        0  (30, 40]  Non-Diabetic     0  \n",
       "2                     0.672   32        1  (30, 40]      Diabetic     1  \n",
       "3                     0.167   21        0  (18, 30]  Non-Diabetic     0  \n",
       "4                     2.288   33        1  (30, 40]      Diabetic     1  "
      ]
     },
     "execution_count": 36,
     "metadata": {},
     "output_type": "execute_result"
    }
   ],
   "source": [
    "def X(x):\n",
    "    if x.Pregnancies > 4 or x.Glucose > 130:\n",
    "        return 1\n",
    "    else:\n",
    "        return 0\n",
    "    \n",
    "dataset['Pred'] = dataset.apply(X , axis = 1)\n",
    "dataset.head()"
   ]
  },
  {
   "cell_type": "code",
   "execution_count": 37,
   "metadata": {},
   "outputs": [
    {
     "data": {
      "text/plain": [
       "0.6705729166666666"
      ]
     },
     "execution_count": 37,
     "metadata": {},
     "output_type": "execute_result"
    }
   ],
   "source": [
    "from sklearn.metrics import accuracy_score\n",
    "acc = accuracy_score(dataset.Outcome , dataset.Pred)\n",
    "acc"
   ]
  },
  {
   "cell_type": "code",
   "execution_count": 39,
   "metadata": {},
   "outputs": [],
   "source": [
    "dx = dataset[['Pregnancies','Glucose','Outcome']]\n",
    "from sklearn.model_selection import train_test_split\n",
    "\n",
    "X_train,X_test,y_train,y_test = train_test_split(dx[['Pregnancies','Glucose']] , dx[['Outcome']] , r)"
   ]
  },
  {
   "cell_type": "code",
   "execution_count": null,
   "metadata": {},
   "outputs": [],
   "source": [
    "from sklearn.tree import DecisionTreeClassifier\n",
    "clf = DecisionTreeClassifier()\n"
   ]
  }
 ],
 "metadata": {
  "kernelspec": {
   "display_name": "Python 3",
   "language": "python",
   "name": "python3"
  },
  "language_info": {
   "codemirror_mode": {
    "name": "ipython",
    "version": 3
   },
   "file_extension": ".py",
   "mimetype": "text/x-python",
   "name": "python",
   "nbconvert_exporter": "python",
   "pygments_lexer": "ipython3",
   "version": "3.6.5"
  }
 },
 "nbformat": 4,
 "nbformat_minor": 2
}
